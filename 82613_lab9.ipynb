{
  "nbformat": 4,
  "nbformat_minor": 0,
  "metadata": {
    "colab": {
      "provenance": []
    },
    "kernelspec": {
      "name": "python3",
      "display_name": "Python 3"
    },
    "language_info": {
      "name": "python"
    },
    "gpuClass": "standard",
    "accelerator": "GPU"
  },
  "cells": [
    {
      "cell_type": "markdown",
      "source": [
        "Mateusz Boguszewski 82613\n",
        "# LABORATORIUM 9"
      ],
      "metadata": {
        "id": "lBi4qQCxfxZa"
      }
    },
    {
      "cell_type": "markdown",
      "source": [
        "Ten kod jest implementacją algorytmu renderowania trójwymiarowych kul za pomocą CUDA (arkusz języka programowania GPU firmy NVIDIA). Algorytm ten tworzy obraz o rozmiarze 10000x10000 pixeli, a każdy pixel jest kolorem kuli, z którą promień światła padający z kamery wirtualnej jest najlepiej skorelowany (tzn. najbliższy). W celu zwiększenia realizmu, każda kula ma swój własny kolor, promień i położenie w przestrzeni trójwymiarowej.\n",
        "\n",
        "Kod składa się z definicji struktury \"Sphere\" reprezentującej kulę oraz funkcji kernel, która jest uruchamiana na GPU i oblicza kolor dla każdego pixela. W funkcji main, tworzone są losowe kule, a następnie przesyłane są do pamięci GPU. Następnie uruchamiana jest funkcja kernel na GPU, która oblicza kolor dla każdego pixela i zapisuje go w tablicy \"dev_bitmap\". Po zakończeniu obliczeń, obraz jest zapisywany do pliku \"RayGpu.ppm\".\n",
        "\n",
        "Kod zawiera również kilka dodatkowych funkcji i zmiennych. Funkcja \"rnd\" jest funkcją pomocniczą, która zwraca losową liczbę z zadanego zakresu. Zmienna \"INF\" jest stałą reprezentującą nieskończoność i jest używana w funkcji \"hit\" struktury \"Sphere\" do oznaczenia, że promień światła nie został trafiony przez kulę. Funkcja \"save_to_file\" jest używana do zapisania obrazu do pliku \"RayGpu.ppm\".\n",
        "\n",
        "Główną częścią kodu jest funkcja kernel, która jest uruchamiana na GPU. Funkcja ta przyjmuje jako argumenty tablicę struktur \"Sphere\" oraz tablicę \"ptr\", do której zapisywane są wyniki obliczeń. Każdy wątek GPU oblicza kolor dla jednego pixela obrazu, przy użyciu pętli przechodzącej przez wszystkie kule i obliczającej, która z nich jest najlepszym kandydatem do została wyświetlona dla danego pixela. Po obliczeniu koloru, jest on zapisywany w tablicy \"ptr\". Po zakończeniu obliczeń dla wszystkich pixeli, obraz jest zapisywany do pliku \"RayGpu.ppm\"."
      ],
      "metadata": {
        "id": "6-wT3fiFgHJF"
      }
    },
    {
      "cell_type": "code",
      "source": [
        "!pip install git+https://github.com/andreinechaev/nvcc4jupyter.git"
      ],
      "metadata": {
        "colab": {
          "base_uri": "https://localhost:8080/"
        },
        "id": "LhwWFEJpjsOJ",
        "outputId": "ce247184-d85a-446e-eed2-c2dae205bc11"
      },
      "execution_count": null,
      "outputs": [
        {
          "output_type": "stream",
          "name": "stdout",
          "text": [
            "Looking in indexes: https://pypi.org/simple, https://us-python.pkg.dev/colab-wheels/public/simple/\n",
            "Collecting git+https://github.com/andreinechaev/nvcc4jupyter.git\n",
            "  Cloning https://github.com/andreinechaev/nvcc4jupyter.git to /tmp/pip-req-build-9jm1csfa\n",
            "  Running command git clone --filter=blob:none --quiet https://github.com/andreinechaev/nvcc4jupyter.git /tmp/pip-req-build-9jm1csfa\n",
            "  Resolved https://github.com/andreinechaev/nvcc4jupyter.git to commit aac710a35f52bb78ab34d2e52517237941399eff\n",
            "  Preparing metadata (setup.py) ... \u001b[?25l\u001b[?25hdone\n"
          ]
        }
      ]
    },
    {
      "cell_type": "code",
      "source": [
        " %load_ext nvcc_plugin"
      ],
      "metadata": {
        "colab": {
          "base_uri": "https://localhost:8080/"
        },
        "id": "NHbwNdu_juWL",
        "outputId": "a49e266b-9c2f-4dd4-f152-9bb2eb95cb4e"
      },
      "execution_count": null,
      "outputs": [
        {
          "output_type": "stream",
          "name": "stdout",
          "text": [
            "The nvcc_plugin extension is already loaded. To reload it, use:\n",
            "  %reload_ext nvcc_plugin\n"
          ]
        }
      ]
    },
    {
      "cell_type": "code",
      "source": [
        "%%cu\n",
        "#include <stdio.h>\n",
        "#define DIM 5000\n",
        "#define rnd( x ) (x * rand() / RAND_MAX)\n",
        "#define INF     2e10f\n",
        "\n",
        "struct Sphere {\n",
        "    float   r,b,g;\n",
        "    float   radius;\n",
        "    float   x,y,z;\n",
        "    __device__ float hit( float ox, float oy, float *n ) {\n",
        "        float dx = ox - x;\n",
        "        float dy = oy - y;\n",
        "        if (dx*dx + dy*dy < radius*radius) {\n",
        "            float dz = sqrtf( radius*radius - dx*dx - dy*dy );\n",
        "            *n = dz / sqrtf( radius * radius );\n",
        "            return dz + z;\n",
        "        }\n",
        "        return -INF;\n",
        "    }\n",
        "};\n",
        "#define SPHERES 20\n",
        "\n",
        "\n",
        "__global__ void kernel( Sphere *s, unsigned char *ptr ) {\n",
        "    // map from threadIdx/BlockIdx to pixel position\n",
        "    int x = threadIdx.x + blockIdx.x * blockDim.x;\n",
        "    int y = threadIdx.y + blockIdx.y * blockDim.y;\n",
        "    int offset = x + y * blockDim.x * gridDim.x;\n",
        "    float   ox = (x - DIM/2);\n",
        "    float   oy = (y - DIM/2);\n",
        "\n",
        "    float   r=0, g=0, b=0;\n",
        "    float   maxz = -INF;\n",
        "    for(int i=0; i<SPHERES; i++) {\n",
        "        float   n;\n",
        "        float   t = s[i].hit( ox, oy, &n );\n",
        "        if (t > maxz) {\n",
        "            float fscale = n;\n",
        "            r = s[i].r * fscale;\n",
        "            g = s[i].g * fscale;\n",
        "            b = s[i].b * fscale;\n",
        "            maxz = t;\n",
        "        }\n",
        "    } \n",
        "\n",
        "    ptr[offset*4 + 0] = (int)(r * 255);\n",
        "    ptr[offset*4 + 1] = (int)(g * 255);\n",
        "    ptr[offset*4 + 2] = (int)(b * 255);\n",
        "    ptr[offset*4 + 3] = 255;\n",
        "}\n",
        "\n",
        "struct DataBlock{\n",
        "    unsigned char *dev_bitmap;\n",
        "};\n",
        "\n",
        "void save_to_file(unsigned char *ptr){\n",
        "  FILE *fp=fopen(\"RayGpu.ppm\",\"w\");\n",
        "  fprintf(fp,\"P3\\n%d %d\\n255\\n\", DIM, DIM);\n",
        "  for(int y=0;y<DIM;y++){\n",
        "    for(int x=0;x<DIM;x++){\n",
        "      int offset=x+y*DIM;\n",
        "      fprintf(fp,\"\\n%d %d %d\", ptr[offset*4+0], ptr[offset*4+1], ptr[offset*4+2]);\n",
        "    }\n",
        "  }\n",
        "  fclose(fp);\n",
        "}\n",
        "\n",
        "\n",
        "int main(void) {\n",
        "  cudaEvent_t start, stop;\n",
        "  cudaEventCreate( &start );\n",
        "  cudaEventCreate( &stop);\n",
        "  \n",
        "  DataBlock data;\n",
        "  unsigned char *bitmap = (unsigned char*)malloc(DIM* DIM*4* sizeof(unsigned char));\n",
        "  int image_size = DIM* DIM*4;\n",
        "  unsigned char *dev_bitmap;\n",
        "\n",
        "  cudaMalloc((void**)&dev_bitmap, image_size); \n",
        "  data.dev_bitmap=dev_bitmap;\n",
        "  Sphere *s;\n",
        "\n",
        "\n",
        "cudaMalloc((void**)&s, sizeof(Sphere)* SPHERES );\n",
        "\n",
        "\n",
        "Sphere *temp_s = (Sphere*)malloc(sizeof(Sphere)* SPHERES );\n",
        "\n",
        "for (int i=0; i<SPHERES; i++) {\n",
        "     temp_s[i].r = rnd( 1.0f);\n",
        "     temp_s[i].g= rnd( 1.0f);\n",
        "     temp_s[1].b= rnd( 1.0f);\n",
        "     temp_s[i].x =rnd( 1000.0f)- 500;\n",
        "     temp_s[i].y =rnd( 1000.0f) - 500;\n",
        "     temp_s[1].z = rnd( 1000.0f) - 500;\n",
        "     temp_s[i].radius = rnd( 100.0f) + 20;\n",
        "     cudaMemcpy( s, temp_s, sizeof(Sphere)* SPHERES, cudaMemcpyHostToDevice);\n",
        "     free( temp_s);\n",
        "}\n",
        "\n",
        "dim3 block(16, 16);\n",
        "dim3 grid((DIM + block.x - 1) / block.x, (DIM + block.y - 1) / block.y);\n",
        "\n",
        "cudaEventRecord( start, 0);\n",
        "\n",
        "kernel<<<grid, block>>>(s, dev_bitmap);\n",
        "\n",
        "cudaEventRecord( stop, 0);\n",
        "cudaEventSynchronize(stop);\n",
        "float elapsedTime;\n",
        "cudaEventElapsedTime(&elapsedTime, start, stop);\n",
        "printf(\"Time: %f s\\n\", elapsedTime / 1000);\n",
        "\n",
        "cudaMemcpy( bitmap, dev_bitmap, image_size, cudaMemcpyDeviceToHost);\n",
        "save_to_file(bitmap);\n",
        "}\n",
        "\n"
      ],
      "metadata": {
        "colab": {
          "base_uri": "https://localhost:8080/"
        },
        "id": "8u-7zkZ2emrM",
        "outputId": "436771e5-d800-43a6-d714-5c1567b57028"
      },
      "execution_count": null,
      "outputs": [
        {
          "output_type": "stream",
          "name": "stdout",
          "text": [
            "Time: 0.031361 ms\n",
            "\n"
          ]
        }
      ]
    },
    {
      "cell_type": "markdown",
      "source": [
        "Ten kod jest implementacją algorytmu renderowania trójwymiarowych kul na CPU (procesorze). Algorytm ten działa podobnie do poprzedniego kodu, ale zamiast korzystać z GPU do obliczeń, używa procesora.\n",
        "\n",
        "Kod składa się z definicji struktury \"Sphere\" reprezentującej kulę oraz funkcji \"compute_on_cpu\", która oblicza kolor dla pojedynczego pixela na CPU. W funkcji main, tworzone są losowe kule, a następnie obliczane są kolory dla każdego pixela za pomocą pętli przechodzącej przez wszystkie piksele i wywołującej funkcję \"compute_on_cpu\" dla każdego z nich. Po obliczeniu kolorów dla wszystkich pixeli, obraz jest zapisywany do pliku \"RayCpu.ppm\".\n",
        "\n",
        "Kod zawiera również kilka dodatkowych funkcji i zmiennych. Funkcja \"rnd\" jest funkcją pomocniczą, która zwraca losową liczbę z zadanego zakresu. Zmienna \"INF\" jest stałą reprezentującą nieskończoność i jest używana w funkcji \"hit\" struktury \"Sphere\" do oznaczenia, że promień światła nie został trafiony przez kulę. Funkcja \"save_to_file\" jest używana do zapisania obrazu do pliku \"RayCpu.ppm\".\n",
        "\n",
        "Główną częścią kodu jest funkcja \"compute_on_cpu\", która oblicza kolor dla pojedynczego pixela na CPU. Funkcja ta przyjmuje jako argumenty tablicę struktur \"Sphere\", współrzędne pixela \"x\" i \"y\" oraz tablicę \"ptr\", do której zapisywane są wyniki obliczeń. Funkcja ta działa podobnie do funkcji kernel z poprzedniego kodu, ale jest uruchamiana tylko dla pojedynczego pixela. Po obliczeniu koloru, jest on zapisywany w tablicy \"ptr\". Po obliczeniu kolorów dla wszystkich pixeli, obraz jest zapisywany do pliku \"RayCpu.ppm\". Kod zawiera również mierzenie"
      ],
      "metadata": {
        "id": "iGEU6isflGGk"
      }
    },
    {
      "cell_type": "code",
      "source": [
        "!pip install git+https://github.com/andreinechaev/nvcc4jupyter.git"
      ],
      "metadata": {
        "colab": {
          "base_uri": "https://localhost:8080/"
        },
        "id": "cb1o4sQojE89",
        "outputId": "b9feefdc-9947-43dc-fede-9e437781fba9"
      },
      "execution_count": null,
      "outputs": [
        {
          "output_type": "stream",
          "name": "stdout",
          "text": [
            "Looking in indexes: https://pypi.org/simple, https://us-python.pkg.dev/colab-wheels/public/simple/\n",
            "Collecting git+https://github.com/andreinechaev/nvcc4jupyter.git\n",
            "  Cloning https://github.com/andreinechaev/nvcc4jupyter.git to /tmp/pip-req-build-z9apoxst\n",
            "  Running command git clone --filter=blob:none --quiet https://github.com/andreinechaev/nvcc4jupyter.git /tmp/pip-req-build-z9apoxst\n",
            "  Resolved https://github.com/andreinechaev/nvcc4jupyter.git to commit aac710a35f52bb78ab34d2e52517237941399eff\n",
            "  Preparing metadata (setup.py) ... \u001b[?25l\u001b[?25hdone\n",
            "Building wheels for collected packages: NVCCPlugin\n",
            "  Building wheel for NVCCPlugin (setup.py) ... \u001b[?25l\u001b[?25hdone\n",
            "  Created wheel for NVCCPlugin: filename=NVCCPlugin-0.0.2-py3-none-any.whl size=4304 sha256=60ef9a11987076690e13944f54a4aa9bcaf77d17259522a64e728c30e16a15f8\n",
            "  Stored in directory: /tmp/pip-ephem-wheel-cache-opmt76t7/wheels/f3/08/cc/e2b5b0e1c92df07dbb50a6f024a68ce090f5e7b2316b41756d\n",
            "Successfully built NVCCPlugin\n",
            "Installing collected packages: NVCCPlugin\n",
            "Successfully installed NVCCPlugin-0.0.2\n"
          ]
        }
      ]
    },
    {
      "cell_type": "code",
      "source": [
        " %load_ext nvcc_plugin"
      ],
      "metadata": {
        "colab": {
          "base_uri": "https://localhost:8080/"
        },
        "id": "VV4obHxwjF71",
        "outputId": "e472f73b-0c76-4f09-fb8d-667db218b539"
      },
      "execution_count": null,
      "outputs": [
        {
          "output_type": "stream",
          "name": "stdout",
          "text": [
            "created output directory at /content/src\n",
            "Out bin /content/result.out\n"
          ]
        }
      ]
    },
    {
      "cell_type": "code",
      "source": [
        "%%cu\n",
        "#include <stdio.h>\n",
        "#define DIM 5000\n",
        "#define rnd( x ) (x * rand() / RAND_MAX)\n",
        "#define INF     2e10f\n",
        "\n",
        "struct Sphere {\n",
        "    float   r,b,g;\n",
        "    float   radius;\n",
        "    float   x,y,z;\n",
        "    float hit( float ox, float oy, float *n ) {\n",
        "        float dx = ox - x;\n",
        "        float dy = oy - y;\n",
        "        if (dx*dx + dy*dy < radius*radius) {\n",
        "            float dz = sqrtf( radius*radius - dx*dx - dy*dy );\n",
        "            *n = dz / sqrtf( radius * radius );\n",
        "            return dz + z;\n",
        "        }\n",
        "        return -INF;\n",
        "    }\n",
        "};\n",
        "#define SPHERES 20\n",
        "\n",
        "\n",
        "void compute_on_cpu(Sphere *s, int x, int y, unsigned char *ptr) {\n",
        " \n",
        "    int offset = x + y * DIM;\n",
        "    float   ox = (x - DIM/2);\n",
        "    float   oy = (y - DIM/2);\n",
        "\n",
        "    float   r=0, g=0, b=0;\n",
        "    float   maxz = -INF;\n",
        "    for(int i=0; i<SPHERES; i++) {\n",
        "        float   n;\n",
        "        float   t = s[i].hit( ox, oy, &n );\n",
        "        if (t > maxz) {\n",
        "            float fscale = n;\n",
        "            r = s[i].r * fscale;\n",
        "            g = s[i].g * fscale;\n",
        "            b = s[i].b * fscale;\n",
        "            maxz = t;\n",
        "        }\n",
        "    } \n",
        "\n",
        "    ptr[offset*4 + 0] = (int)(r * 255);\n",
        "    ptr[offset*4 + 1] = (int)(g * 255);\n",
        "    ptr[offset*4 + 2] = (int)(b * 255);\n",
        "    ptr[offset*4 + 3] = 255;\n",
        "}\n",
        "\n",
        "struct DataBlock{\n",
        "    unsigned char *dev_bitmap;\n",
        "};\n",
        "\n",
        "\n",
        "void save_to_file(unsigned char *ptr){\n",
        "  FILE *fp=fopen(\"RayCpu.ppm\",\"w\");\n",
        "  fprintf(fp,\"P3\\n%d %d\\n255\\n\", DIM, DIM);\n",
        "  for(int y=0;y<DIM;y++){\n",
        "    for(int x=0;x<DIM;x++){\n",
        "      int offset=x+y*DIM;\n",
        "      fprintf(fp,\"\\n%d %d %d\", ptr[offset*4+0], ptr[offset*4+1], ptr[offset*4+2]);\n",
        "    }\n",
        "  }\n",
        "  fclose(fp);\n",
        "}\n",
        "\n",
        "\n",
        "int main(void) {\n",
        "    clock_t start, end;\n",
        "    double execution_time;\n",
        "    start = clock();\n",
        "  DataBlock data;\n",
        "  unsigned char *bitmap = (unsigned char*)malloc(DIM* DIM*4* sizeof(unsigned char));\n",
        "  int image_size = DIM*DIM*4;\n",
        "  Sphere *s;\n",
        "  Sphere *temp_s = (Sphere*)malloc(sizeof(Sphere)* SPHERES );\n",
        "  s = temp_s;\n",
        "\n",
        "for (int i=0; i<SPHERES; i++) {\n",
        "     temp_s[i].r = rnd( 1.0f);\n",
        "     temp_s[i].g= rnd( 1.0f);\n",
        "     temp_s[1].b= rnd( 1.0f);\n",
        "     temp_s[i].x =rnd( 1000.0f)- 500;\n",
        "     temp_s[i].y =rnd( 1000.0f) - 500;\n",
        "     temp_s[1].z = rnd( 1000.0f) - 500;\n",
        "     temp_s[i].radius = rnd( 100.0f) + 20;\n",
        "}\n",
        "\n",
        "for (int y=0; y<DIM; y++) {\n",
        "    for (int x=0; x<DIM; x++) {\n",
        "        compute_on_cpu(s, x, y, bitmap);\n",
        "    }\n",
        "}\n",
        "\n",
        "\n",
        "    end = clock();\n",
        "    execution_time = ((double)(end - start))/CLOCKS_PER_SEC;\n",
        "    printf(\"Time taken to execute in seconds : %f\", execution_time);\n",
        "    save_to_file(bitmap);\n",
        "}\n",
        "\n"
      ],
      "metadata": {
        "colab": {
          "base_uri": "https://localhost:8080/"
        },
        "id": "bPaHpPQ5Xj5P",
        "outputId": "345a3a27-e71d-408e-d87d-7966d0c29e17"
      },
      "execution_count": null,
      "outputs": [
        {
          "output_type": "stream",
          "name": "stdout",
          "text": [
            "Time taken to execute in seconds : 0.731769\n"
          ]
        }
      ]
    },
    {
      "cell_type": "markdown",
      "source": [
        "Porównanie czasu pracy tych dwóch kodów w zależności na jakiej części komputera on pracuje:"
      ],
      "metadata": {
        "id": "e5k8PjurlasZ"
      }
    },
    {
      "cell_type": "markdown",
      "source": [
        "**WARTOŚCI GPU:**\n",
        "\n",
        "DIM: 1000\n",
        "time: 0.000363 s\n",
        "\n",
        "DIM: 2000\n",
        "time: 0.001286 s\n",
        "\n",
        "DIM: 5000\n",
        "time: 0.007891 s\n",
        "\n",
        "\n",
        "**WARTOŚCI CPU:**\n",
        "\n",
        "DIM: 1000 \n",
        "time: 0.199786 s\n",
        "\n",
        "DIM: 2000\n",
        "time: 0.814849 s\n",
        "\n",
        "DIM: 5000 \n",
        "time: 5.053354 s\n",
        "\n"
      ],
      "metadata": {
        "id": "wTkPMB_YBzu2"
      }
    },
    {
      "cell_type": "code",
      "source": [
        "import matplotlib.pyplot as plt\n",
        "\n",
        "# wartości DIM\n",
        "dim_values = [1000, 2000, 5000]\n",
        "\n",
        "# wartości dla GPU\n",
        "gpu_values = [0.000363, 0.001286, 0.007891]\n",
        "\n",
        "# wartości dla CPU\n",
        "cpu_values = [0.199786, 0.814849, 5.053354]\n",
        "\n",
        "# rysowanie wykresu liniowego z wartościami DIM jako oś x i wartościami GPU i CPU jako oś y\n",
        "plt.plot(dim_values, gpu_values, label=\"GPU\")\n",
        "plt.plot(dim_values, cpu_values, label=\"CPU\")\n",
        "\n",
        "# dodanie etykiet dla osi x i y\n",
        "plt.xlabel(\"DIM\")\n",
        "plt.ylabel(\"Wartość\")\n",
        "\n",
        "# dodanie legendy\n",
        "plt.legend()\n",
        "\n",
        "# wyświetlenie wykresu\n",
        "plt.show()"
      ],
      "metadata": {
        "id": "Rc7gUcCPBzck",
        "colab": {
          "base_uri": "https://localhost:8080/",
          "height": 279
        },
        "outputId": "1805df2d-2bdb-46c8-e419-f389686bc203"
      },
      "execution_count": 1,
      "outputs": [
        {
          "output_type": "display_data",
          "data": {
            "text/plain": [
              "<Figure size 432x288 with 1 Axes>"
            ],
            "image/png": "[encoded data removed]"
          },
          "metadata": {
            "needs_background": "light"
          }
        }
      ]
    },
    {
      "cell_type": "markdown",
      "source": [
        "GPU ma w tym przypadku linie praktycznie rownolegle do osi x czyli jest bardzo szybki a CPU jak widac czas wykonania rosnie dosyc szybko."
      ],
      "metadata": {
        "id": "BpvvAWdnl0mc"
      }
    }
  ]
}